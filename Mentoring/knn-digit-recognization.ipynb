{
 "cells": [
  {
   "cell_type": "code",
   "execution_count": 1,
   "metadata": {},
   "outputs": [],
   "source": [
    "# import module\n",
    "import pandas as pd\n",
    "import numpy as np\n",
    "import matplotlib.pyplot as plt\n",
    "from sklearn.model_selection import train_test_split\n",
    "%matplotlib inline"
   ]
  },
  {
   "cell_type": "markdown",
   "metadata": {},
   "source": [
    "loading data\n",
    "\n",
    "1. We use panda's read_csv to read train.csv into a dataframe.\n",
    "2. Then we separate our images and labels for supervised learning.\n",
    "3. We also do a train_test_split to break our data into two sets, one for training and one for testing. This let's us measure how well our model was trained by later inputting some known test data."
   ]
  },
  {
   "cell_type": "code",
   "execution_count": 2,
   "metadata": {},
   "outputs": [],
   "source": [
    "dataset=pd.read_csv('./train.csv') # import the data"
   ]
  },
  {
   "cell_type": "markdown",
   "metadata": {},
   "source": [
    "For the sake of time, we're only using 5000 images. You should increase or decrease this number to see how it affects model training."
   ]
  },
  {
   "cell_type": "code",
   "execution_count": 3,
   "metadata": {},
   "outputs": [],
   "source": [
    "images=dataset.iloc[0:5000,1:]\n",
    "labels=dataset.iloc[0:5000,:1]"
   ]
  },
  {
   "cell_type": "code",
   "execution_count": 18,
   "metadata": {},
   "outputs": [
    {
     "data": {
      "text/plain": [
       "(42000, 785)"
      ]
     },
     "execution_count": 18,
     "metadata": {},
     "output_type": "execute_result"
    }
   ],
   "source": [
    "dataset.shape"
   ]
  },
  {
   "cell_type": "code",
   "execution_count": 4,
   "metadata": {},
   "outputs": [
    {
     "data": {
      "text/plain": [
       "(5000, 784)"
      ]
     },
     "execution_count": 4,
     "metadata": {},
     "output_type": "execute_result"
    }
   ],
   "source": [
    "images.shape"
   ]
  },
  {
   "cell_type": "code",
   "execution_count": 5,
   "metadata": {},
   "outputs": [
    {
     "data": {
      "text/plain": [
       "(5000, 1)"
      ]
     },
     "execution_count": 5,
     "metadata": {},
     "output_type": "execute_result"
    }
   ],
   "source": [
    "labels.shape"
   ]
  },
  {
   "cell_type": "code",
   "execution_count": 6,
   "metadata": {},
   "outputs": [
    {
     "name": "stderr",
     "output_type": "stream",
     "text": [
      "/home/subash/anaconda3/lib/python3.6/site-packages/sklearn/model_selection/_split.py:2026: FutureWarning: From version 0.21, test_size will always complement train_size unless both are specified.\n",
      "  FutureWarning)\n"
     ]
    }
   ],
   "source": [
    "train_images,test_images,train_labels,test_labels=train_test_split(images,labels,random_state=2,train_size=0.8)"
   ]
  },
  {
   "cell_type": "markdown",
   "metadata": {},
   "source": [
    "# Viewing the image"
   ]
  },
  {
   "cell_type": "markdown",
   "metadata": {},
   "source": [
    "1. Since the image is currently one-dimension, we load it into a numpy array and reshape it so that it is two-dimensional (28x28 pixels)\n",
    "2. Then, we plot the image and label with matplotlib"
   ]
  },
  {
   "cell_type": "markdown",
   "metadata": {},
   "source": [
    "#### You can change the value of variable i to check out other images and labels."
   ]
  },
  {
   "cell_type": "code",
   "execution_count": 7,
   "metadata": {},
   "outputs": [
    {
     "data": {
      "text/plain": [
       "Text(0.5,1,'label    9\\nName: 936, dtype: int64')"
      ]
     },
     "execution_count": 7,
     "metadata": {},
     "output_type": "execute_result"
    },
    {
     "data": {
      "image/png": "[encoded data removed]",
      "text/plain": [
       "<matplotlib.figure.Figure at 0x7f5ae50be9b0>"
      ]
     },
     "metadata": {},
     "output_type": "display_data"
    }
   ],
   "source": [
    "i=1\n",
    "img=train_images.iloc[i].as_matrix()\n",
    "img=img.reshape(28,28)\n",
    "plt.imshow(img,cmap='gray')\n",
    "plt.title(train_labels.iloc[i])"
   ]
  },
  {
   "cell_type": "markdown",
   "metadata": {},
   "source": [
    "# trained the model"
   ]
  },
  {
   "cell_type": "markdown",
   "metadata": {},
   "source": [
    "1. First, we use the sklearn.neighbors module to create a neighbour classifier.\n",
    "2. Next, we pass our training images and labels to the classifier's fit method, which trains our model.\n",
    "3.Finally, the test images and labels are passed to the score method to see how well we trained our model. Fit will return a float between 0-1 indicating our accuracy on the test data set"
   ]
  },
  {
   "cell_type": "code",
   "execution_count": 9,
   "metadata": {},
   "outputs": [
    {
     "data": {
      "text/plain": [
       "KNeighborsClassifier(algorithm='auto', leaf_size=30, metric='minkowski',\n",
       "           metric_params=None, n_jobs=1, n_neighbors=5, p=2,\n",
       "           weights='uniform')"
      ]
     },
     "execution_count": 9,
     "metadata": {},
     "output_type": "execute_result"
    }
   ],
   "source": [
    "from sklearn.neighbors import KNeighborsClassifier\n",
    "clf=KNeighborsClassifier()\n",
    "clf.fit(train_images,train_labels.values.ravel())"
   ]
  },
  {
   "cell_type": "code",
   "execution_count": 10,
   "metadata": {},
   "outputs": [],
   "source": [
    "predictions=clf.predict(test_images)"
   ]
  },
  {
   "cell_type": "code",
   "execution_count": 11,
   "metadata": {},
   "outputs": [
    {
     "name": "stdout",
     "output_type": "stream",
     "text": [
      "[4 6 9 4 1 4 3 6 5 7 4 7 9 3 0 6 6 6 7 1 1 0 7 1 4 9 6 4 7 1 9 8 1 8 7 1 1\n",
      " 5 9 8 3 6 6 5 0 0 9 7 3 5 9 4 9 7 7 9 7 1 9 4 4 7 9 8 9 6 3 8 1 8 5 6 4 0\n",
      " 4 1 9 6 4 2 2 2 9 9 4 6 8 9 4 8 7 3 9 8 2 3 5 5 2 0 4 9 9 6 0 0 2 7 1 9 5\n",
      " 8 3 8 6 8 4 0 7 8 1 8 7 3 0 5 7 7 5 1 1 1 6 7 7 1 7 9 9 5 1 0 9 7 3 9 6 1\n",
      " 2 8 9 7 8 7 3 8 9 3 7 7 0 9 3 5 4 6 6 2 1 8 2 2 4 0 9 2 4 9 9 0 4 6 5 5 4\n",
      " 7 1 0 0 0 6 7 7 4 9 1 6 4 0 1 7 9 7 9 5 5 8 3 3 6 6 6 1 0 9 5 0 5 2 6 6 1\n",
      " 9 6 9 2 6 5 9 9 7 6 0 7 5 1 1 3 6 1 4 0 6 0 7 2 0 0 3 5 0 0 2 2 1 1 6 5 4\n",
      " 7 7 4 1 2 5 4 2 1 0 4 1 6 7 1 6 8 2 0 6 1 2 9 8 7 1 6 5 5 1 6 2 7 2 3 2 1\n",
      " 6 7 3 6 0 1 5 3 3 6 9 4 1 2 4 0 0 5 6 2 5 4 9 2 5 0 6 3 6 8 6 4 0 3 5 6 0\n",
      " 9 3 4 8 4 3 3 2 4 2 4 5 7 2 3 7 1 2 8 4 9 6 7 4 3 7 0 7 7 1 5 4 1 4 1 2 5\n",
      " 5 4 3 7 5 9 4 2 1 3 2 5 4 0 3 7 9 2 7 9 2 1 5 2 7 2 3 9 4 7 4 9 0 9 0 6 7\n",
      " 4 6 6 7 1 6 0 9 3 7 6 0 6 0 0 5 1 8 3 2 4 4 6 9 7 1 0 2 8 3 4 7 1 5 0 2 8\n",
      " 1 1 9 2 2 6 2 2 0 7 3 7 1 5 8 9 7 0 5 4 5 3 2 5 2 6 1 3 3 9 5 0 1 4 5 4 6\n",
      " 3 4 6 0 2 0 1 4 6 0 9 1 4 1 1 4 7 6 7 3 4 7 6 5 4 1 0 6 6 4 9 8 8 0 4 4 0\n",
      " 5 7 3 1 3 7 0 5 6 5 7 7 0 2 6 7 4 6 0 5 1 2 7 4 5 0 0 3 9 5 8 5 1 0 9 5 1\n",
      " 6 7 9 1 2 9 7 4 6 6 1 1 9 0 5 9 8 3 0 2 1 0 1 8 9 0 6 6 0 7 8 6 0 2 2 3 4\n",
      " 9 7 3 1 4 1 0 0 9 6 5 9 4 7 9 9 1 0 6 2 9 5 5 1 4 4 0 4 3 2 5 8 1 0 2 9 1\n",
      " 8 3 1 8 9 4 0 9 9 4 6 2 0 4 9 0 9 1 5 4 6 8 4 2 7 2 4 0 3 0 6 2 8 5 9 1 1\n",
      " 3 5 9 1 0 2 6 7 2 3 4 0 1 6 2 2 8 1 4 9 4 2 1 6 4 1 4 7 3 6 8 9 7 0 0 3 7\n",
      " 1 4 3 8 1 2 2 0 3 6 0 3 9 1 5 5 6 9 6 0 9 9 7 4 3 3 9 7 1 0 2 3 3 1 2 2 8\n",
      " 1 2 6 0 2 0 5 7 8 7 9 2 6 2 3 0 8 2 7 2 2 4 5 6 0 2 7 4 5 9 0 8 7 5 1 8 9\n",
      " 5 6 0 4 3 8 5 6 3 1 2 5 9 6 1 6 2 3 1 3 1 9 4 9 4 4 4 8 6 2 9 6 8 5 1 2 6\n",
      " 0 1 0 0 2 5 1 5 4 1 4 1 6 3 5 7 4 9 5 7 1 0 3 6 0 6 3 4 5 1 7 6 7 7 2 3 5\n",
      " 0 8 8 6 5 3 7 9 0 3 1 0 2 3 8 9 9 5 1 8 0 0 0 1 6 4 6 6 1 2 8 8 4 6 4 4 4\n",
      " 1 9 5 8 8 4 1 9 1 4 8 1 5 4 4 9 4 1 7 3 7 1 6 7 6 6 4 9 1 2 4 9 6 3 7 5 0\n",
      " 4 3 1 1 3 0 4 2 4 0 4 8 7 0 8 7 2 0 7 0 4 1 4 6 9 9 0 0 7 3 5 0 3 2 9 9 0\n",
      " 4 7 9 7 4 2 7 8 2 2 1 7 4 8 8 0 9 6 7 8 8 1 9 9 9 2 8 9 3 1 0 8 7 6 3 5 0\n",
      " 4]\n"
     ]
    }
   ],
   "source": [
    "print(predictions)"
   ]
  },
  {
   "cell_type": "code",
   "execution_count": 12,
   "metadata": {},
   "outputs": [
    {
     "name": "stdout",
     "output_type": "stream",
     "text": [
      "0.926\n"
     ]
    }
   ],
   "source": [
    "from sklearn.metrics import accuracy_score\n",
    "print(accuracy_score(test_labels,predictions))"
   ]
  },
  {
   "cell_type": "markdown",
   "metadata": {},
   "source": [
    "# Loaded test_data"
   ]
  },
  {
   "cell_type": "markdown",
   "metadata": {},
   "source": [
    "we can load and predict the unlabeled data from test.csv"
   ]
  },
  {
   "cell_type": "code",
   "execution_count": 13,
   "metadata": {},
   "outputs": [],
   "source": [
    "testd=pd.read_csv('./test.csv')\n",
    "result=clf.predict(testd)"
   ]
  },
  {
   "cell_type": "code",
   "execution_count": 14,
   "metadata": {},
   "outputs": [
    {
     "name": "stdout",
     "output_type": "stream",
     "text": [
      "[2 0 9 ... 3 9 2]\n"
     ]
    }
   ],
   "source": [
    "print(result)"
   ]
  },
  {
   "cell_type": "code",
   "execution_count": 15,
   "metadata": {},
   "outputs": [
    {
     "data": {
      "text/plain": [
       "array([2, 0, 9, ..., 3, 9, 2])"
      ]
     },
     "execution_count": 15,
     "metadata": {},
     "output_type": "execute_result"
    }
   ],
   "source": [
    "result"
   ]
  },
  {
   "cell_type": "code",
   "execution_count": 16,
   "metadata": {},
   "outputs": [
    {
     "data": {
      "text/plain": [
       "(28000,)"
      ]
     },
     "execution_count": 16,
     "metadata": {},
     "output_type": "execute_result"
    }
   ],
   "source": [
    "result.shape"
   ]
  },
  {
   "cell_type": "code",
   "execution_count": 17,
   "metadata": {},
   "outputs": [
    {
     "data": {
      "text/plain": [
       "(28000, 784)"
      ]
     },
     "execution_count": 17,
     "metadata": {},
     "output_type": "execute_result"
    }
   ],
   "source": [
    "testd.shape"
   ]
  },
  {
   "cell_type": "code",
   "execution_count": null,
   "metadata": {},
   "outputs": [],
   "source": []
  }
 ],
 "metadata": {
  "kernelspec": {
   "display_name": "Python 3",
   "language": "python",
   "name": "python3"
  },
  "language_info": {
   "codemirror_mode": {
    "name": "ipython",
    "version": 3
   },
   "file_extension": ".py",
   "mimetype": "text/x-python",
   "name": "python",
   "nbconvert_exporter": "python",
   "pygments_lexer": "ipython3",
   "version": "3.6.4"
  }
 },
 "nbformat": 4,
 "nbformat_minor": 2
}
